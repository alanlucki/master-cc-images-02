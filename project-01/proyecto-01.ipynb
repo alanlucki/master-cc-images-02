{
 "cells": [
  {
   "cell_type": "code",
   "execution_count": 2,
   "id": "240020d0-ce73-4992-9901-1543b6ae22dc",
   "metadata": {},
   "outputs": [],
   "source": [
    "#importar librerías\n",
    "import numpy as np\n",
    "import matplotlib.pyplot as plt\n",
    "import cv2"
   ]
  },
  {
   "cell_type": "code",
   "execution_count": 3,
   "id": "75fdcb04-d295-493d-a780-3a05a39baeb2",
   "metadata": {},
   "outputs": [],
   "source": [
    "#leer imagen\n",
    "img = cv2.imread('Base/Train/c003_001.png')"
   ]
  },
  {
   "cell_type": "code",
   "execution_count": 4,
   "id": "c39acb6a-d45f-4331-9719-a86de1070b9a",
   "metadata": {},
   "outputs": [],
   "source": [
    "#crear una nueva imagen\n",
    "img2 = img"
   ]
  },
  {
   "cell_type": "code",
   "execution_count": 11,
   "id": "be46c43f-9184-4cd8-8539-3864179f781b",
   "metadata": {},
   "outputs": [],
   "source": [
    "#convertir en escala de grises\n",
    "for i in range(img.shape[0]):\n",
    "    for j in range(img.shape[1]):\n",
    "        img2[i, j] = sum(img[i, j])/3\n",
    "        "
   ]
  },
  {
   "cell_type": "code",
   "execution_count": null,
   "id": "3f63b4a5-7caf-4968-ae1d-35289acddfcb",
   "metadata": {},
   "outputs": [],
   "source": []
  }
 ],
 "metadata": {
  "kernelspec": {
   "display_name": "Python 3 (ipykernel)",
   "language": "python",
   "name": "python3"
  },
  "language_info": {
   "codemirror_mode": {
    "name": "ipython",
    "version": 3
   },
   "file_extension": ".py",
   "mimetype": "text/x-python",
   "name": "python",
   "nbconvert_exporter": "python",
   "pygments_lexer": "ipython3",
   "version": "3.9.12"
  }
 },
 "nbformat": 4,
 "nbformat_minor": 5
}
